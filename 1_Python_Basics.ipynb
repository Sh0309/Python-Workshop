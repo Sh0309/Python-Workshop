{
 "cells": [
  {
   "cell_type": "markdown",
   "metadata": {},
   "source": [
    "# Basics of Python "
   ]
  },
  {
   "cell_type": "code",
   "execution_count": 1,
   "metadata": {},
   "outputs": [
    {
     "name": "stdout",
     "output_type": "stream",
     "text": [
      "Hello World!\n"
     ]
    }
   ],
   "source": [
    "print(\"Hello World!\")"
   ]
  },
  {
   "cell_type": "code",
   "execution_count": 6,
   "metadata": {},
   "outputs": [
    {
     "name": "stdout",
     "output_type": "stream",
     "text": [
      "('x+y is ', 6)\n",
      "('New value of x is ', 4.5)\n"
     ]
    }
   ],
   "source": [
    "#python is dynamically typed language: No implicit data type with a variable\n",
    "x = 3\n",
    "y = x\n",
    "print(\"x+y is \", x+y)\n",
    "x = 4.5\n",
    "print(\"New value of x is \",x)\n"
   ]
  },
  {
   "cell_type": "code",
   "execution_count": 7,
   "metadata": {},
   "outputs": [
    {
     "name": "stdout",
     "output_type": "stream",
     "text": [
      "True\n",
      "False\n"
     ]
    }
   ],
   "source": [
    "# == and is operator \n",
    "x = 2\n",
    "y = 2.0\n",
    "print(x==y)\n",
    "print(x is y)"
   ]
  },
  {
   "cell_type": "code",
   "execution_count": 8,
   "metadata": {},
   "outputs": [
    {
     "name": "stdout",
     "output_type": "stream",
     "text": [
      "1\n",
      "3\n",
      "5\n",
      "7\n",
      "9\n"
     ]
    }
   ],
   "source": [
    "#for loop in python\n",
    "for i in range(1,10,2):\n",
    "    print(i)"
   ]
  },
  {
   "cell_type": "code",
   "execution_count": 14,
   "metadata": {},
   "outputs": [
    {
     "name": "stdout",
     "output_type": "stream",
     "text": [
      "1\n",
      "3\n",
      "5\n",
      "7\n",
      "9\n"
     ]
    }
   ],
   "source": [
    "#while loop in python\n",
    "i=1\n",
    "while i<10:\n",
    "    print (i)\n",
    "    i=i+2"
   ]
  },
  {
   "cell_type": "code",
   "execution_count": 9,
   "metadata": {},
   "outputs": [
    {
     "name": "stdout",
     "output_type": "stream",
     "text": [
      "('4 is', 'even')\n",
      "('5 is', 'odd')\n"
     ]
    }
   ],
   "source": [
    "#defining a function in python\n",
    "def my_function(x):\n",
    "    if x%2 == 0:\n",
    "        return \"even\"\n",
    "    else:\n",
    "        return \"odd\"\n",
    "\n",
    "print(\"4 is\", my_function(4))\n",
    "print(\"5 is\", my_function(5))\n",
    "    "
   ]
  },
  {
   "cell_type": "markdown",
   "metadata": {},
   "source": [
    "# Lists in Python\n",
    "\n",
    "-Basic data structure in Python.\n",
    "-Each element of a sequence is assigned a number - its index. \n",
    "-The first index is zero, the second index is one, and so forth.\n"
   ]
  },
  {
   "cell_type": "code",
   "execution_count": 10,
   "metadata": {},
   "outputs": [
    {
     "name": "stdout",
     "output_type": "stream",
     "text": [
      "('List of mixed data types', ['a', 'b', 0, 1, 2])\n",
      "('list1 ', [1, 2, 3, 4])\n",
      "('Element in list1 at index 0', 1)\n",
      "('Changing list1[0] ', [11, 2, 3, 4])\n",
      "('Length of list1', 4)\n",
      "('concatenating l1', [10, 12, 14], 'and', [11, 13, 15], 'i.e. l1+l2', [10, 12, 14, 11, 13, 15])\n",
      "('l1', [1, 2], 'l1*3', [1, 2, 1, 2, 1, 2])\n"
     ]
    },
    {
     "ename": "IndexError",
     "evalue": "list index out of range",
     "output_type": "error",
     "traceback": [
      "\u001b[1;31m---------------------------------------------------------------------------\u001b[0m",
      "\u001b[1;31mIndexError\u001b[0m                                Traceback (most recent call last)",
      "\u001b[1;32m<ipython-input-10-54f8b3615a54>\u001b[0m in \u001b[0;36m<module>\u001b[1;34m()\u001b[0m\n\u001b[0;32m     26\u001b[0m \u001b[1;33m\u001b[0m\u001b[0m\n\u001b[0;32m     27\u001b[0m \u001b[1;31m#Accessing an out of range list element\u001b[0m\u001b[1;33m\u001b[0m\u001b[1;33m\u001b[0m\u001b[0m\n\u001b[1;32m---> 28\u001b[1;33m \u001b[0mlist1\u001b[0m\u001b[1;33m[\u001b[0m\u001b[1;36m6\u001b[0m\u001b[1;33m]\u001b[0m\u001b[1;33m\u001b[0m\u001b[0m\n\u001b[0m",
      "\u001b[1;31mIndexError\u001b[0m: list index out of range"
     ]
    }
   ],
   "source": [
    "#Creating a list\n",
    "dummy = ['a','b',0,1,2]\n",
    "print(\"List of mixed data types\",dummy)\n",
    "\n",
    "list1 = [1,2,3,4]\n",
    "print(\"list1 \",list1)\n",
    "\n",
    "#Accessing a list element by its index\n",
    "print(\"Element in list1 at index 0\", list1[0])\n",
    "\n",
    "#Changing the value of an element in list\n",
    "list1[0] = 11\n",
    "print(\"Changing list1[0] \",list1)\n",
    "\n",
    "#Length of a list\n",
    "print(\"Length of list1\", len(list1))\n",
    "\n",
    "#concating lists\n",
    "l1 = [10,12,14]\n",
    "l2 = [11,13,15]\n",
    "print(\"concatenating l1\",l1, \"and\", l2,\"i.e. l1+l2\",l1+l2)\n",
    "\n",
    "#repetition of list\n",
    "l1 = [1,2]\n",
    "print(\"l1\", l1, \"l1*3\", l1*3)\n",
    "\n",
    "#Accessing an out of range list element\n",
    "list1[6]"
   ]
  },
  {
   "cell_type": "code",
   "execution_count": 11,
   "metadata": {},
   "outputs": [
    {
     "name": "stdout",
     "output_type": "stream",
     "text": [
      "Method 1\n",
      "Contents of list1 are :\n",
      "11\n",
      "2\n",
      "3\n",
      "4\n",
      "Method 2\n",
      "('At index', 0, 'element', 11)\n",
      "('At index', 1, 'element', 2)\n",
      "('At index', 2, 'element', 3)\n",
      "('At index', 3, 'element', 4)\n"
     ]
    }
   ],
   "source": [
    "#Iterating within a list\n",
    "print(\"Method 1\")\n",
    "print(\"Contents of list1 are :\")\n",
    "for i in list1:\n",
    "    print(i)\n",
    "    \n",
    "#Iterating within a list using range and len function\n",
    "print(\"Method 2\")\n",
    "for i in range(0,len(list1)):\n",
    "    print(\"At index\",i,\"element\",list1[i])"
   ]
  },
  {
   "cell_type": "code",
   "execution_count": 12,
   "metadata": {},
   "outputs": [
    {
     "name": "stdout",
     "output_type": "stream",
     "text": [
      "[11, 22, 33, 44, 55]\n",
      "('appends b as a list in a', [1, 2, [8, 9]])\n",
      "('Merging', [1, 2, 3], 'and', [4, 5, 6])\n",
      "('Merged List', [1, 2, 3, 4, 5, 6])\n",
      "('Zippng', [1, 2, 3], 'and ', [4, 5, 6])\n",
      "(1, 'and', 4)\n",
      "(2, 'and', 5)\n",
      "(3, 'and', 6)\n"
     ]
    }
   ],
   "source": [
    "#Appending elements to a list\n",
    "list1 = [11,22,33,44]\n",
    "list1.append(55) \n",
    "print(list1)\n",
    "\n",
    "#appending one list to another\n",
    "a = [1,2]\n",
    "b = [8,9]\n",
    "a.append(b)\n",
    "print(\"appends b as a list in a\",a)\n",
    "\n",
    "#Deletion from a list using index\n",
    "list1.pop(3)\n",
    "list1\n",
    "\n",
    "#Deletion from a list using value \n",
    "list1.remove(33)\n",
    "list1\n",
    "\n",
    "#Merging two lists \n",
    "l1 = [1,2,3]\n",
    "l2 = [4,5,6]\n",
    "print(\"Merging\", l1, \"and\",l2)\n",
    "l1.extend(l2)\n",
    "print(\"Merged List\",l1)\n",
    "\n",
    "#zipping lists \n",
    "l1 = [1,2,3]\n",
    "l2 = [4,5,6]\n",
    "print(\"Zippng\", l1, \"and \", l2)\n",
    "for x,y in zip(l1,l2):\n",
    "    print(x,\"and\",y)"
   ]
  },
  {
   "cell_type": "markdown",
   "metadata": {},
   "source": [
    "# Tuples in Python\n",
    "\n",
    "-A tuple is a sequence of immutable Python objects. \n",
    "-Tuples are sequences, just like lists. \n",
    "-The differences between tuples and lists are, the tuples cannot be changed unlike lists and tuples use parentheses, whereas lists use square brackets."
   ]
  },
  {
   "cell_type": "code",
   "execution_count": 14,
   "metadata": {},
   "outputs": [
    {
     "name": "stdout",
     "output_type": "stream",
     "text": [
      "('November', 2017)\n",
      "('Element in tuple at index 0:', 'November')\n"
     ]
    }
   ],
   "source": [
    "#Creating a tuple\n",
    "\n",
    "tuple1 = (\"November\", 2017)\n",
    "print(tuple1)\n",
    "#Accessing a tuple element by its index\n",
    "print(\"Element in tuple at index 0:\",tuple1[0])"
   ]
  },
  {
   "cell_type": "code",
   "execution_count": 15,
   "metadata": {},
   "outputs": [
    {
     "ename": "TypeError",
     "evalue": "'tuple' object does not support item assignment",
     "output_type": "error",
     "traceback": [
      "\u001b[1;31m---------------------------------------------------------------------------\u001b[0m",
      "\u001b[1;31mTypeError\u001b[0m                                 Traceback (most recent call last)",
      "\u001b[1;32m<ipython-input-15-0cfaf9b47437>\u001b[0m in \u001b[0;36m<module>\u001b[1;34m()\u001b[0m\n\u001b[0;32m      1\u001b[0m \u001b[1;31m#Changing value is an error !!\u001b[0m\u001b[1;33m\u001b[0m\u001b[1;33m\u001b[0m\u001b[0m\n\u001b[0;32m      2\u001b[0m \u001b[1;33m\u001b[0m\u001b[0m\n\u001b[1;32m----> 3\u001b[1;33m \u001b[0mtuple1\u001b[0m\u001b[1;33m[\u001b[0m\u001b[1;36m0\u001b[0m\u001b[1;33m]\u001b[0m \u001b[1;33m=\u001b[0m \u001b[1;34m\"change\"\u001b[0m\u001b[1;33m\u001b[0m\u001b[0m\n\u001b[0m\u001b[0;32m      4\u001b[0m \u001b[1;32mprint\u001b[0m\u001b[1;33m(\u001b[0m\u001b[0mtuple1\u001b[0m\u001b[1;33m)\u001b[0m\u001b[1;33m\u001b[0m\u001b[0m\n",
      "\u001b[1;31mTypeError\u001b[0m: 'tuple' object does not support item assignment"
     ]
    }
   ],
   "source": [
    "#Changing value is an error !!\n",
    "\n",
    "tuple1[0] = \"change\"\n",
    "print(tuple1)"
   ]
  },
  {
   "cell_type": "code",
   "execution_count": 16,
   "metadata": {},
   "outputs": [
    {
     "name": "stdout",
     "output_type": "stream",
     "text": [
      "(1, 2, 3, 4)\n"
     ]
    }
   ],
   "source": [
    "#converting a list into tuple: using tuple()\n",
    "list = [1,2,3,4]\n",
    "atuple = tuple(list)\n",
    "print(atuple)"
   ]
  },
  {
   "cell_type": "markdown",
   "metadata": {},
   "source": [
    "# Dictionary in Python\n",
    "\n",
    "-Key:Value data structure\n",
    "-Each key is separated from its value by a colon (:), the items are separated by commas, and the whole thing is enclosed in curly braces. \n",
    "-Keys are unique within a dictionary while values may not be. The values of a dictionary can be of any type, but the keys must be of an immutable data type such as strings, numbers, or tuples."
   ]
  },
  {
   "cell_type": "code",
   "execution_count": 17,
   "metadata": {},
   "outputs": [
    {
     "name": "stdout",
     "output_type": "stream",
     "text": [
      "('Dictionary ', {'Version': 2.7, 'Language': 'Python'})\n",
      "(\"dict['Language']: \", 'Python')\n",
      "(\"dict['Version']: \", 2.7)\n",
      "('Dictionary after addition', {'Version': 3.5, 'Jupyter': 'Notebook', 'Language': 'Python'})\n",
      "('Length :', 3)\n",
      "('Keys: ', ['Version', 'Jupyter', 'Language'])\n",
      "('Values: ', [3.5, 'Notebook', 'Python'])\n",
      "('(Key, Value): ', [('Version', 3.5), ('Jupyter', 'Notebook'), ('Language', 'Python')])\n"
     ]
    }
   ],
   "source": [
    "#creating a dictionary\n",
    "dict = {'Language': 'Python', 'Version': 2.7}\n",
    "\n",
    "#printing dictionary\n",
    "print(\"Dictionary \",dict)\n",
    "\n",
    "#accessing a dictionary using key\n",
    "print(\"dict['Language']: \", dict['Language'])\n",
    "print(\"dict['Version']: \", dict['Version'])\n",
    "\n",
    "#updating a dictionary\n",
    "dict['Version'] = 3.5\n",
    "\n",
    "#adding a new value \n",
    "dict['Jupyter'] = 'Notebook'\n",
    "print(\"Dictionary after addition\",dict)\n",
    "\n",
    "#length of dictionary\n",
    "print(\"Length :\",len(dict))\n",
    "\n",
    "#printing keys of dictionary\n",
    "print(\"Keys: \", dict.keys())\n",
    "\n",
    "#printing values of dictionary\n",
    "print(\"Values: \",dict.values())\n",
    "\n",
    "#printing key:value pairs of dictionary\n",
    "print(\"(Key, Value): \",dict.items())\n"
   ]
  },
  {
   "cell_type": "code",
   "execution_count": 18,
   "metadata": {},
   "outputs": [
    {
     "name": "stdout",
     "output_type": "stream",
     "text": [
      "('Dictionary after deletion', {'Jupyter': 'Notebook', 'Language': 'Python'})\n",
      "('Dictionary after clear() ', {})\n",
      "('Deleted dictionary', <type 'dict'>)\n"
     ]
    }
   ],
   "source": [
    "#deleting an entry using key\n",
    "del dict['Version']\n",
    "print(\"Dictionary after deletion\",dict)\n",
    "\n",
    "#removing all enteries \n",
    "dict.clear()\n",
    "print(\"Dictionary after clear() \",dict)\n",
    "\n",
    "#delete entire dictionary\n",
    "del dict\n",
    "print(\"Deleted dictionary\",dict)"
   ]
  },
  {
   "cell_type": "code",
   "execution_count": 19,
   "metadata": {},
   "outputs": [
    {
     "name": "stdout",
     "output_type": "stream",
     "text": [
      "('Dictionary ', {1: 1, 2: 4, 3: 9, 4: 16, 5: 25, 6: 36, 7: 49, 8: 64, 9: 81, 10: 100})\n"
     ]
    }
   ],
   "source": [
    "#Creating a dictionary with key and values as i:i**i\n",
    "d = {i:i**2 for i in range(1,11)}\n",
    "print(\"Dictionary \",d)"
   ]
  }
 ],
 "metadata": {
  "kernelspec": {
   "display_name": "Python 2",
   "language": "python",
   "name": "python2"
  },
  "language_info": {
   "codemirror_mode": {
    "name": "ipython",
    "version": 2
   },
   "file_extension": ".py",
   "mimetype": "text/x-python",
   "name": "python",
   "nbconvert_exporter": "python",
   "pygments_lexer": "ipython2",
   "version": "2.7.14"
  }
 },
 "nbformat": 4,
 "nbformat_minor": 2
}
