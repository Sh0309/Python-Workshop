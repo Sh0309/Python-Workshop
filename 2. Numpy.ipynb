{
 "cells": [
  {
   "cell_type": "markdown",
   "metadata": {},
   "source": [
    "# Numpy"
   ]
  },
  {
   "cell_type": "markdown",
   "metadata": {},
   "source": [
    "Numerical Python, or \"Numpy\" for short, is a foundational package for most of the data science packages. \n",
    "\n",
    "Provides high performance multi-dimensional arrays \n",
    "\n",
    "\n",
    "The key features of numpy are:\n",
    "-ndarrays: fast and space-efficient n-dimensional arrays of the same data type. \n",
    "    - large number of built-in methods for ndarrays\n",
    "    - rapid processing of data without using loops \n",
    "    - Broadcasting: a useful tool which defines implicit behavior between multi-dimensional arrays of different sizes.\n",
    "-Vectorization: enables numeric operations on ndarrays.\n",
    "-Input/Output: simplifies reading and writing of data from/to file."
   ]
  },
  {
   "cell_type": "raw",
   "metadata": {},
   "source": [
    "# import NumPy library\n",
    "\n",
    "import numpy as np"
   ]
  },
  {
   "cell_type": "markdown",
   "metadata": {},
   "source": [
    "# Getting started with ndarray (N-dimensional array)\n",
    "\n",
    "It is a collection of items of the same type. Items in the collection can be accessed using a zero-based index."
   ]
  },
  {
   "cell_type": "markdown",
   "metadata": {},
   "source": [
    "# creating nd array \n",
    "nd array is created using the following constructor:\n",
    "    \n",
    "numpy.array(object, dtype = None, copy = True, order = None, subok = False, ndmin = 0)\n",
    "\n",
    "Parameters\n",
    "\n",
    "object     Any object exposing the array interface method returns an array, or any (nested) sequence.\n",
    "dtype      Desired data type of array, optional\n",
    "copy       Optional. By default (true), the object is copied\n",
    "order      C (row major) or F (column major) or A (any) (default)\n",
    "subok      By default, returned array forced to be a base class array. If true, sub-classes passed through\n",
    "ndimin     Specifies minimum dimensions of resultant array"
   ]
  },
  {
   "cell_type": "code",
   "execution_count": 3,
   "metadata": {},
   "outputs": [
    {
     "name": "stdout",
     "output_type": "stream",
     "text": [
      "1D nd array\n",
      "[1 2 3]\n",
      "2D nd array\n",
      "[[1 2]\n",
      " [3 4]]\n",
      "nd array with dtype as complex\n",
      "[ 1.+0.j  2.+0.j  3.+0.j]\n"
     ]
    }
   ],
   "source": [
    "import numpy as np \n",
    "a = np.array([1,2,3]) \n",
    "print( \"1D nd array\")\n",
    "print(a)\n",
    "\n",
    "# more than one dimensions \n",
    "import numpy as np \n",
    "a2 = np.array([[1, 2], [3, 4]]) \n",
    "print(\"2D nd array\")\n",
    "print(a2)\n",
    "\n",
    "\n",
    "# dtype parameter \n",
    "import numpy as np \n",
    "a3 = np.array([1, 2, 3], dtype = complex) \n",
    "print(\"nd array with dtype as complex\")\n",
    "print(a3)"
   ]
  },
  {
   "cell_type": "code",
   "execution_count": 4,
   "metadata": {},
   "outputs": [
    {
     "name": "stdout",
     "output_type": "stream",
     "text": [
      "('(rows, columns) in s', (3, 3))\n",
      "<type 'numpy.ndarray'>\n",
      "updated array s \n",
      "[[1 7 1]\n",
      " [3 4 5]\n",
      " [5 6 7]]\n",
      "('dimension ', 2)\n",
      "('itemsize', 4)\n"
     ]
    }
   ],
   "source": [
    "import numpy as np\n",
    "s = np.array([[1,2,1],[3,4,5],[5,6,7]])\n",
    "\n",
    "#number of rows and columns in nd array\n",
    "print(\"(rows, columns) in s\", s.shape)\n",
    "\n",
    "#type of array\n",
    "print(type(s))\n",
    "\n",
    "#nd arrays are mutable, thus we can change its  contents\n",
    "s[0][1] = 7\n",
    "print(\"updated array s \")\n",
    "print(s)\n",
    "\n",
    "#dimension of nd array\n",
    "print(\"dimension \",s.ndim)\n",
    "\n",
    "#itemsize returns the length of each element of array in bytes\n",
    "print(\"itemsize\",s.itemsize)"
   ]
  },
  {
   "cell_type": "markdown",
   "metadata": {},
   "source": [
    "# Indexing and Slicing\n",
    "\n",
    "Similar to the use of slice indexing with lists and strings, we can use slice indexing to pull out sub-regions of ndarrays."
   ]
  },
  {
   "cell_type": "code",
   "execution_count": 5,
   "metadata": {},
   "outputs": [
    {
     "name": "stdout",
     "output_type": "stream",
     "text": [
      "('using slice(start,stop,step)', array([2, 4, 6]))\n",
      "('using [start:stop:step]', array([2, 4, 6]))\n",
      "('a[2:] =', array([2, 3, 4, 5, 6, 7, 8, 9]))\n",
      "('a[2:5] =', array([2, 3, 4]))\n",
      "('x[:2,1:3] =', array([[12, 13],\n",
      "       [22, 23]]))\n"
     ]
    }
   ],
   "source": [
    "import numpy as np \n",
    "a = np.arange(10) \n",
    "s = slice(2,7,2) \n",
    "print(\"using slice(start,stop,step)\",a[s])\n",
    "\n",
    "b = a[2:7:2] \n",
    "print(\"using [start:stop:step]\",b)\n",
    "\n",
    "print(\"a[2:] = \",a[2:])\n",
    "print(\"a[2:5] = \",a[2:5])\n",
    "\n",
    "x = np.array([[11,12,13,14], [21,22,23,24], [31,32,33,34]])\n",
    "print(\"x[:2,1:3] = \",x[:2, 1:3])"
   ]
  },
  {
   "cell_type": "markdown",
   "metadata": {},
   "source": [
    "# Advanced Indexing: Boolean"
   ]
  },
  {
   "cell_type": "code",
   "execution_count": 5,
   "metadata": {},
   "outputs": [
    {
     "name": "stdout",
     "output_type": "stream",
     "text": [
      "[[11 12]\n",
      " [21 22]\n",
      " [31 32]]\n"
     ]
    }
   ],
   "source": [
    "# create a 3x2 array\n",
    "an_array = np.array([[11,12], [21, 22], [31, 32]])\n",
    "print(an_array)"
   ]
  },
  {
   "cell_type": "code",
   "execution_count": 6,
   "metadata": {},
   "outputs": [
    {
     "data": {
      "text/plain": [
       "array([[False, False],\n",
       "       [ True,  True],\n",
       "       [ True,  True]], dtype=bool)"
      ]
     },
     "execution_count": 6,
     "metadata": {},
     "output_type": "execute_result"
    }
   ],
   "source": [
    "# create a filter which will be boolean values for whether each element meets this condition\n",
    "filter = (an_array > 20)\n",
    "filter"
   ]
  },
  {
   "cell_type": "code",
   "execution_count": 7,
   "metadata": {},
   "outputs": [
    {
     "name": "stdout",
     "output_type": "stream",
     "text": [
      "[21 22 31 32]\n"
     ]
    }
   ],
   "source": [
    "# we can now select just those elements which meet that criteria\n",
    "print(an_array[filter])"
   ]
  },
  {
   "cell_type": "code",
   "execution_count": 8,
   "metadata": {},
   "outputs": [
    {
     "data": {
      "text/plain": [
       "array([12, 22, 32])"
      ]
     },
     "execution_count": 8,
     "metadata": {},
     "output_type": "execute_result"
    }
   ],
   "source": [
    "# For short, we could have just used the approach below without the need for the separate filter array.\n",
    "\n",
    "an_array[(an_array % 2 == 0)]"
   ]
  },
  {
   "cell_type": "code",
   "execution_count": 9,
   "metadata": {},
   "outputs": [
    {
     "name": "stdout",
     "output_type": "stream",
     "text": [
      "[[ 11 112]\n",
      " [ 21 122]\n",
      " [ 31 132]]\n"
     ]
    }
   ],
   "source": [
    "#adding 100 to all even elements\n",
    "an_array[an_array % 2 == 0] +=100\n",
    "print(an_array)"
   ]
  },
  {
   "cell_type": "markdown",
   "metadata": {},
   "source": [
    "# Arithmetic Array Operations"
   ]
  },
  {
   "cell_type": "code",
   "execution_count": 15,
   "metadata": {},
   "outputs": [
    {
     "name": "stdout",
     "output_type": "stream",
     "text": [
      "('x+y = ', array([[ 322.1,  324.1],\n",
      "       [ 342.1,  344.1]]))\n"
     ]
    }
   ],
   "source": [
    "#adding two ndarrays (similarly subraction, multiplication and division)\n",
    "x = np.array([[111,112],[121,122]], dtype = np.int)\n",
    "y = np.array([[211.1,212.1],[221.1,222.1]], dtype = np.float64)\n",
    "\n",
    "print( \"x+y = \" ,x+y)"
   ]
  },
  {
   "cell_type": "code",
   "execution_count": 11,
   "metadata": {},
   "outputs": [
    {
     "name": "stdout",
     "output_type": "stream",
     "text": [
      "[[ 10.53565375  10.58300524]\n",
      " [ 11.          11.04536102]]\n"
     ]
    }
   ],
   "source": [
    "# square root\n",
    "print(np.sqrt(x))"
   ]
  },
  {
   "cell_type": "code",
   "execution_count": 12,
   "metadata": {},
   "outputs": [
    {
     "name": "stdout",
     "output_type": "stream",
     "text": [
      "[[  1.60948707e+48   4.37503945e+48]\n",
      " [  3.54513118e+52   9.63666567e+52]]\n"
     ]
    }
   ],
   "source": [
    "# exponent (e ** x)\n",
    "print(np.exp(x))"
   ]
  },
  {
   "cell_type": "markdown",
   "metadata": {},
   "source": [
    "# Array Manipulation"
   ]
  },
  {
   "cell_type": "markdown",
   "metadata": {},
   "source": [
    "#reshaping an array\n",
    "This function gives a new shape to an array without changing the data. It accepts the following parameters −\n",
    "\n",
    "numpy.reshape(arr, newshape, order')\n",
    "\n",
    "Parameters \n",
    "newshape int or tuple of int\n",
    "order    'C' for C style, 'F' for Fortran style, "
   ]
  },
  {
   "cell_type": "code",
   "execution_count": 6,
   "metadata": {},
   "outputs": [
    {
     "name": "stdout",
     "output_type": "stream",
     "text": [
      "The original array:\n",
      "[0 1 2 3 4 5 6 7]\n",
      "()\n",
      "The modified array:\n",
      "[[0 1]\n",
      " [2 3]\n",
      " [4 5]\n",
      " [6 7]]\n"
     ]
    }
   ],
   "source": [
    "import numpy as np\n",
    "a = np.arange(8)\n",
    "print('The original array:')\n",
    "print(a)\n",
    "print()\n",
    "b = a.reshape(4,2)\n",
    "print('The modified array:')\n",
    "print(b)"
   ]
  },
  {
   "cell_type": "markdown",
   "metadata": {},
   "source": [
    "# Basic Statistical Operations"
   ]
  },
  {
   "cell_type": "code",
   "execution_count": 7,
   "metadata": {},
   "outputs": [
    {
     "name": "stdout",
     "output_type": "stream",
     "text": [
      "[[ 32.28207212 -10.6764703  -23.4424081    2.66246577   4.86278231]\n",
      " [  0.67165558   0.98909827   8.8954801   -1.41688078  -6.44073167]]\n"
     ]
    }
   ],
   "source": [
    "# setup a random 2 x 4 matrix\n",
    "arr = 10 * np.random.randn(2,5)\n",
    "print(arr)"
   ]
  },
  {
   "cell_type": "code",
   "execution_count": 16,
   "metadata": {},
   "outputs": [
    {
     "name": "stdout",
     "output_type": "stream",
     "text": [
      "('mean of all elements = ', 0.83870632974369852)\n",
      "('mean of a row=', array([ 1.13768836,  0.5397243 ]))\n",
      "('mean of a column', array([ 16.47686385,  -4.84368601,  -7.273464  ,   0.62279249,  -0.78897468]))\n"
     ]
    }
   ],
   "source": [
    "# compute the mean for all elements\n",
    "print(\"mean of all elements = \",(arr.mean()))\n",
    "\n",
    "# compute the means by row\n",
    "print(\"mean of a row=\",(arr.mean(axis = 1)))\n",
    "\n",
    "# compute the means by column\n",
    "print(\"mean of a column\",(arr.mean(axis = 0)))"
   ]
  },
  {
   "cell_type": "code",
   "execution_count": 16,
   "metadata": {},
   "outputs": [
    {
     "name": "stdout",
     "output_type": "stream",
     "text": [
      "2.86488777918\n"
     ]
    }
   ],
   "source": [
    "# sum all the elements\n",
    "print(arr.sum())"
   ]
  },
  {
   "cell_type": "markdown",
   "metadata": {},
   "source": [
    "# Sort, Search & Counting Functions"
   ]
  },
  {
   "cell_type": "code",
   "execution_count": 11,
   "metadata": {},
   "outputs": [
    {
     "name": "stdout",
     "output_type": "stream",
     "text": [
      "Our array is:\n",
      "[[3 7]\n",
      " [9 1]]\n",
      "Applying sort() function:\n",
      "[[3 7]\n",
      " [1 9]]\n",
      "Sort along axis 0:\n",
      "[[3 1]\n",
      " [9 7]]\n"
     ]
    }
   ],
   "source": [
    "import numpy as np  \n",
    "a = np.array([[3,7],[9,1]]) \n",
    "\n",
    "print( 'Our array is:' )\n",
    "print(a) \n",
    "\n",
    "print('Applying sort() function:') \n",
    "print(np.sort(a))\n",
    "   \n",
    "print('Sort along axis 0:' )\n",
    "print(np.sort(a, axis = 0) )"
   ]
  },
  {
   "cell_type": "code",
   "execution_count": 12,
   "metadata": {},
   "outputs": [
    {
     "name": "stdout",
     "output_type": "stream",
     "text": [
      "Applying nonzero() function:\n",
      "(array([0, 0, 1, 1, 2, 2]), array([0, 1, 1, 2, 0, 2]))\n"
     ]
    }
   ],
   "source": [
    "#returning the indices of non-zero elements in the input array\n",
    "import numpy as np \n",
    "a = np.array([[30,40,0],[0,20,10],[50,0,60]]) \n",
    "  \n",
    "print('Applying nonzero() function:' )\n",
    "print(np.nonzero(a))"
   ]
  },
  {
   "cell_type": "code",
   "execution_count": 13,
   "metadata": {},
   "outputs": [
    {
     "name": "stdout",
     "output_type": "stream",
     "text": [
      "(array([6, 7, 8, 9]),)\n"
     ]
    }
   ],
   "source": [
    "#returns the indices of elements in an input array where the given condition is satisfied\n",
    "import numpy as np \n",
    "a = np.arange(10)\n",
    "x = np.where(a>5)\n",
    "print(x)"
   ]
  },
  {
   "cell_type": "code",
   "execution_count": 14,
   "metadata": {},
   "outputs": [
    {
     "name": "stdout",
     "output_type": "stream",
     "text": [
      "[1 2 4]\n"
     ]
    }
   ],
   "source": [
    "#finding unique elements\n",
    "array = np.array([1,2,1,4,2,1,4,2])\n",
    "print(np.unique(array))"
   ]
  },
  {
   "cell_type": "markdown",
   "metadata": {},
   "source": [
    "# Random Number Generation"
   ]
  },
  {
   "cell_type": "code",
   "execution_count": 21,
   "metadata": {},
   "outputs": [
    {
     "name": "stdout",
     "output_type": "stream",
     "text": [
      "[ 7 41 35 27]\n"
     ]
    }
   ],
   "source": [
    "Z = np.random.randint(low=2,high=50,size=4)\n",
    "print(Z)"
   ]
  },
  {
   "cell_type": "code",
   "execution_count": 22,
   "metadata": {},
   "outputs": [
    {
     "data": {
      "text/plain": [
       "array([41, 35, 27,  7])"
      ]
     },
     "execution_count": 22,
     "metadata": {},
     "output_type": "execute_result"
    }
   ],
   "source": [
    "#return a new ordering of elements in Z (permutation)\n",
    "np.random.permutation(Z) "
   ]
  }
 ],
 "metadata": {
  "kernelspec": {
   "display_name": "Python 2",
   "language": "python",
   "name": "python2"
  },
  "language_info": {
   "codemirror_mode": {
    "name": "ipython",
    "version": 2
   },
   "file_extension": ".py",
   "mimetype": "text/x-python",
   "name": "python",
   "nbconvert_exporter": "python",
   "pygments_lexer": "ipython2",
   "version": "2.7.14"
  }
 },
 "nbformat": 4,
 "nbformat_minor": 2
}
